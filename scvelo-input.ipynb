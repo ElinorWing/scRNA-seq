{
 "cells": [
  {
   "cell_type": "markdown",
   "id": "2934ebab",
   "metadata": {},
   "source": [
    "# Prepare scVelo Input File"
   ]
  },
  {
   "cell_type": "markdown",
   "id": "f0cc61ad",
   "metadata": {},
   "source": [
    "Combine loom file with splice data and seurat output converted into anndata."
   ]
  },
  {
   "cell_type": "code",
   "execution_count": 1,
   "id": "76c4f6e5",
   "metadata": {},
   "outputs": [],
   "source": [
    "import numpy as np\n",
    "import pandas as pd\n",
    "import matplotlib.pyplot as pl\n",
    "import scanpy as sc\n",
    "import igraph\n",
    "import scvelo as scv\n",
    "import loompy as lmp\n",
    "import anndata\n",
    "\n",
    "import warnings\n",
    "warnings.filterwarnings('ignore')"
   ]
  },
  {
   "cell_type": "code",
   "execution_count": 2,
   "id": "8f655202",
   "metadata": {},
   "outputs": [],
   "source": [
    "# Set parameters for plots, including size, color, etc.\n",
    "scv.set_figure_params(style=\"scvelo\")\n",
    "pl.rcParams[\"figure.figsize\"] = (10,10)\n",
    "Colorss=[\"#E41A1C\",\"#377EB8\",\"#4DAF4A\",\"#984EA3\",\"#FF7F00\",\"#FFFF33\",\"#A65628\",\"#F781BF\"]"
   ]
  },
  {
   "cell_type": "markdown",
   "id": "7cccb87d",
   "metadata": {},
   "source": [
    "### Import the filtered gene expression matrix output from Cell Ranger into scVelo."
   ]
  },
  {
   "cell_type": "code",
   "execution_count": 5,
   "id": "d5de1470",
   "metadata": {},
   "outputs": [
    {
     "data": {
      "text/plain": [
       "AnnData object with n_obs × n_vars = 1149 × 36601\n",
       "    var: 'gene_ids', 'feature_types'"
      ]
     },
     "execution_count": 5,
     "metadata": {},
     "output_type": "execute_result"
    }
   ],
   "source": [
    "# Define Path to the matrix output from cellranger\n",
    "Path10x='./input-files/sample_feature_bc_matrix/'\n",
    "\n",
    "# Read matrix\n",
    "matrix = sc.read_10x_mtx(Path10x,var_names='gene_symbols',cache=True)\n",
    "\n",
    "# Print information on this new object\n",
    "matrix"
   ]
  },
  {
   "cell_type": "markdown",
   "id": "6d45007e",
   "metadata": {},
   "source": [
    "### Import spliced/unspliced counts."
   ]
  },
  {
   "cell_type": "code",
   "execution_count": 6,
   "id": "04a715ef",
   "metadata": {},
   "outputs": [],
   "source": [
    "# Read velocyto output\n",
    "spliced = scv.read('./input-files/sample_alignments_NSV3R.loom', cache=True)\n",
    "\n",
    "# Merge velocyto with cellranger matrix\n",
    "spliced = scv.utils.merge(matrix, spliced)"
   ]
  },
  {
   "cell_type": "code",
   "execution_count": 7,
   "id": "222c3be6",
   "metadata": {},
   "outputs": [
    {
     "data": {
      "text/plain": [
       "AnnData object with n_obs × n_vars = 1149 × 36601\n",
       "    obs: 'initial_size_spliced', 'initial_size_unspliced', 'initial_size'\n",
       "    var: 'gene_ids', 'feature_types', 'Accession', 'Chromosome', 'End', 'Start', 'Strand'\n",
       "    layers: 'matrix', 'ambiguous', 'spliced', 'unspliced'"
      ]
     },
     "execution_count": 7,
     "metadata": {},
     "output_type": "execute_result"
    }
   ],
   "source": [
    "spliced"
   ]
  },
  {
   "cell_type": "markdown",
   "id": "4848626f",
   "metadata": {},
   "source": [
    "### Import clusters and UMAP projection."
   ]
  },
  {
   "cell_type": "code",
   "execution_count": 10,
   "id": "0ce2d5dd",
   "metadata": {},
   "outputs": [],
   "source": [
    "#read in Seurat output\n",
    "adata = scv.read('./input-files/b.h5ad', cache=True)\n",
    "\n",
    "#merge Seurat output with the spliced data\n",
    "final = scv.utils.merge(spliced, adata)"
   ]
  },
  {
   "cell_type": "code",
   "execution_count": 11,
   "id": "70ffa0bf",
   "metadata": {},
   "outputs": [
    {
     "data": {
      "text/plain": [
       "AnnData object with n_obs × n_vars = 949 × 13126\n",
       "    obs: 'initial_size_spliced', 'initial_size_unspliced', 'initial_size', 'orig.ident', 'nCount_RNA', 'nFeature_RNA', 'percent.mt', 'RNA_snn_res.0.5', 'seurat_clusters'\n",
       "    var: 'gene_ids', 'feature_types', 'Accession', 'Chromosome', 'End', 'Start', 'Strand', 'vst.mean', 'vst.variance', 'vst.variance.expected', 'vst.variance.standardized', 'vst.variable'\n",
       "    uns: 'neighbors'\n",
       "    obsm: 'X_pca', 'X_umap'\n",
       "    varm: 'PCs'\n",
       "    layers: 'matrix', 'ambiguous', 'spliced', 'unspliced'"
      ]
     },
     "execution_count": 11,
     "metadata": {},
     "output_type": "execute_result"
    }
   ],
   "source": [
    "#check the fial anndata object contains all info needed - spliced and unspliced layers, gen_ids, X_umap and PCs\n",
    "final"
   ]
  },
  {
   "cell_type": "code",
   "execution_count": 13,
   "id": "d45c7532",
   "metadata": {},
   "outputs": [
    {
     "data": {
      "image/png": "[encoded data removed]",
      "text/plain": [
       "<Figure size 1000x200 with 1 Axes>"
      ]
     },
     "metadata": {},
     "output_type": "display_data"
    }
   ],
   "source": [
    "scv.pl.proportions(final)"
   ]
  },
  {
   "cell_type": "markdown",
   "id": "5566a8ae",
   "metadata": {},
   "source": [
    "### Save final Anndata object for input into scVelo"
   ]
  },
  {
   "cell_type": "code",
   "execution_count": 15,
   "id": "8ea4b93e",
   "metadata": {},
   "outputs": [],
   "source": [
    "final.write('scVelo-input.h5ad')"
   ]
  }
 ],
 "metadata": {
  "kernelspec": {
   "display_name": "Python 3",
   "language": "python",
   "name": "python3"
  },
  "language_info": {
   "codemirror_mode": {
    "name": "ipython",
    "version": 3
   },
   "file_extension": ".py",
   "mimetype": "text/x-python",
   "name": "python",
   "nbconvert_exporter": "python",
   "pygments_lexer": "ipython3",
   "version": "3.8.8"
  }
 },
 "nbformat": 4,
 "nbformat_minor": 5
}
